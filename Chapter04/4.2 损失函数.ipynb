{
 "cells": [
  {
   "cell_type": "markdown",
   "metadata": {},
   "source": [
    "# 4.2.1 经典损失函数"
   ]
  },
  {
   "cell_type": "markdown",
   "metadata": {},
   "source": [
    "## 1.  交叉熵\n",
    "> [MarkDown math](https://www.zybuluo.com/codeep/note/163962)\n",
    "### １．1 定义：\n",
    "$$ H(p,q) = -\\sum_{x}{p(x)log(q(x))}$$ \n",
    "### 1.２ 性质：\n",
    "* ${H(p,q)}\\neq{H(q,p)}$\n",
    "* p:真值；　q:预测, 不能反。\n",
    "* 交叉熵值越小，表示两概率分布越接近。"
   ]
  },
  {
   "cell_type": "markdown",
   "metadata": {},
   "source": [
    "## 2. Softmax\n",
    "### 2．1 定义：\n",
    "$${softmax(y_i)=\\frac{e^{y_i}}{\\sum_{j=1}^n{y_j}}}$$\n",
    "### 2.２ 性质：\n",
    "* softmax 将神经网络输出变为`概率`."
   ]
  },
  {
   "cell_type": "markdown",
   "metadata": {},
   "source": [
    "## 3. ｔｆ.clip_by_value(value, min, max)"
   ]
  },
  {
   "cell_type": "code",
   "execution_count": 1,
   "metadata": {},
   "outputs": [
    {
     "name": "stdout",
     "output_type": "stream",
     "text": [
      "[[2.5 2.5 3. ]\n",
      " [4.  4.5 4.5]]\n"
     ]
    }
   ],
   "source": [
    "import tensorflow as tf\n",
    "sess = tf.InteractiveSession() # 构建默认会话。\n",
    "v = tf.constant([[1.0, 2.0, 3.0], [4.0, 5.0, 6.0]])\n",
    "print(tf.clip_by_value(v, 2.5, 4.5).eval())\n",
    "sess.close()"
   ]
  },
  {
   "cell_type": "code",
   "execution_count": null,
   "metadata": {},
   "outputs": [],
   "source": []
  }
 ],
 "metadata": {
  "kernelspec": {
   "display_name": "Python 2",
   "language": "python",
   "name": "python2"
  },
  "language_info": {
   "codemirror_mode": {
    "name": "ipython",
    "version": 2
   },
   "file_extension": ".py",
   "mimetype": "text/x-python",
   "name": "python",
   "nbconvert_exporter": "python",
   "pygments_lexer": "ipython2",
   "version": "2.7.12"
  }
 },
 "nbformat": 4,
 "nbformat_minor": 2
}
