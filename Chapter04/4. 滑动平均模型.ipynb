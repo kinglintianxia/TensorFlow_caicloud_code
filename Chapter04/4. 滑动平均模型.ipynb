{
 "cells": [
  {
   "cell_type": "code",
   "execution_count": 1,
   "metadata": {},
   "outputs": [],
   "source": [
    "import tensorflow as tf"
   ]
  },
  {
   "cell_type": "markdown",
   "metadata": {},
   "source": [
    "#### 1. 定义变量及滑动平均类\n",
    "* [class tf.train.ExponentialMovingAverage](https://www.tensorflow.org/versions/r1.0/api_docs/python/tf/train/ExponentialMovingAverage#__init__)\n",
    "* __init__(decay, num_updates=None, zero_debias=False, name='ExponentialMovingAverage')\n",
    "* $${shadow\\_variable} = decay * shadow\\_variable + (1 - decay) * variable$$\n",
    "* when num_updates aviliable:\n",
    "$$decay=min\\lbrace{decay},\\frac{1+num\\_updates}{10+num\\_updates}\\rbrace$$"
   ]
  },
  {
   "cell_type": "code",
   "execution_count": 2,
   "metadata": {},
   "outputs": [],
   "source": [
    "# 定义一个变量计算滑动平均\n",
    "v1 = tf.Variable(0, dtype=tf.float32)\n",
    "# 模拟迭代次数，用于动态控制衰减率（ｄｅｃａｙ）\n",
    "step = tf.Variable(0, trainable=False)\n",
    "# class\n",
    "ema = tf.train.ExponentialMovingAverage(0.99, step)\n",
    "# 定义一个更新滑动平均的操作。\n",
    "maintain_averages_op = ema.apply([v1]) "
   ]
  },
  {
   "cell_type": "markdown",
   "metadata": {},
   "source": [
    "#### 2. 查看不同迭代中变量取值的变化。"
   ]
  },
  {
   "cell_type": "code",
   "execution_count": 3,
   "metadata": {},
   "outputs": [
    {
     "name": "stdout",
     "output_type": "stream",
     "text": [
      "[0.0, 0.0]\n",
      "[5.0, 4.5]\n",
      "[10.0, 4.555]\n",
      "[10.0, 4.60945]\n"
     ]
    }
   ],
   "source": [
    "with tf.Session() as sess:\n",
    "    \n",
    "    # 初始化\n",
    "    init_op = tf.global_variables_initializer()\n",
    "    sess.run(init_op)\n",
    "    # print `v1` & `v1的滑动平均`　all 0\n",
    "    print sess.run([v1, ema.average(v1)])\n",
    "    \n",
    "    # 更新变量v1的取值为５\n",
    "    sess.run(tf.assign(v1, 5))\n",
    "    # 更新滑动平均，decay=min(0.99,(1+step)/(10+step)=0.1)=0.1\n",
    "    # average(v1) = decay*shadow_variable+(1-decay)*variable = 0.1*0+0.9*5=4.5\n",
    "    sess.run(maintain_averages_op)\n",
    "    print sess.run([v1, ema.average(v1)]) \n",
    "    \n",
    "    # 更新step和v1的取值\n",
    "    sess.run(tf.assign(step, 10000))  \n",
    "    sess.run(tf.assign(v1, 10))\n",
    "    # 更新滑动平均，decay=min(0.99,(1+step)/(10+step)=0.1)=0.99\n",
    "    # average(v1) = decay*shadow_variable+(1-decay)*variable = 0.99*4.5+0.01*10=4.555\n",
    "    sess.run(maintain_averages_op)\n",
    "    print sess.run([v1, ema.average(v1)])       \n",
    "    \n",
    "    # 更新一次v1的滑动平均值\n",
    "    # 更新滑动平均，decay=min(0.99,(1+step)/10+step=0.1)=0.99\n",
    "    # average(v1) = decay*shadow_variable+(1-decay)*variable = 0.99*4.555+0.9*10=4.60945\n",
    "    sess.run(maintain_averages_op)\n",
    "    print sess.run([v1, ema.average(v1)])       \n"
   ]
  },
  {
   "cell_type": "code",
   "execution_count": null,
   "metadata": {},
   "outputs": [],
   "source": []
  }
 ],
 "metadata": {
  "kernelspec": {
   "display_name": "Python 2",
   "language": "python",
   "name": "python2"
  },
  "language_info": {
   "codemirror_mode": {
    "name": "ipython",
    "version": 2
   },
   "file_extension": ".py",
   "mimetype": "text/x-python",
   "name": "python",
   "nbconvert_exporter": "python",
   "pygments_lexer": "ipython2",
   "version": "2.7.12"
  }
 },
 "nbformat": 4,
 "nbformat_minor": 1
}
