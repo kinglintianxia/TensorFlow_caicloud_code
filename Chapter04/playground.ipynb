{
 "cells": [
  {
   "cell_type": "code",
   "execution_count": 1,
   "metadata": {
    "collapsed": true
   },
   "outputs": [],
   "source": [
    "from __future__ import division"
   ]
  },
  {
   "cell_type": "code",
   "execution_count": 2,
   "metadata": {
    "collapsed": true
   },
   "outputs": [],
   "source": [
    "import numpy as np\n",
    "import matplotlib.pyplot as plt\n",
    "%matplotlib inline"
   ]
  },
  {
   "cell_type": "code",
   "execution_count": 3,
   "metadata": {
    "collapsed": false
   },
   "outputs": [],
   "source": [
    "import tensorflow as tf\n",
    "from tensorflow import keras"
   ]
  },
  {
   "cell_type": "code",
   "execution_count": 4,
   "metadata": {
    "collapsed": true
   },
   "outputs": [],
   "source": [
    "batch_size = 10\n",
    "epochs = 10\n",
    "noise = 0.2\n",
    "ratio_of_training = 0.5\n",
    "dataset = 'circle'\n",
    "features = ['x','y', 'x**2', 'y**2', 'x*y', 'sinx', 'siny']\n",
    "layers = [6, 8, 6, 6]\n",
    "lr = 0.03\n",
    "activation = 'tanh'\n",
    "regularization = 'l2'\n",
    "regularization_rate = 0.003"
   ]
  },
  {
   "cell_type": "code",
   "execution_count": 5,
   "metadata": {
    "collapsed": true
   },
   "outputs": [],
   "source": [
    "assert activation in ['tanh', 'sigmoid', 'relu']\n",
    "assert dataset in ['circle', 'xor', 'spiral']\n",
    "assert regularization in [None, 'l1', 'l2']"
   ]
  },
  {
   "cell_type": "code",
   "execution_count": 6,
   "metadata": {
    "collapsed": false
   },
   "outputs": [],
   "source": [
    "if regularization == 'l1':\n",
    "    regularizer = keras.regularizers.l1(regularization_rate)\n",
    "elif regularization == 'l2':\n",
    "    regularizer = keras.regularizers.l2(regularization_rate)\n",
    "else :\n",
    "    regularizer = None"
   ]
  },
  {
   "cell_type": "code",
   "execution_count": 7,
   "metadata": {
    "collapsed": true
   },
   "outputs": [],
   "source": [
    "def classify_circle_data(num_samples=1, noise=0):\n",
    "    radius = 5\n",
    "    def get_circle_label(x, y):\n",
    "        return 1 if (np.sqrt(x**2 + y**2) < (radius * 0.5)) else 0\n",
    "    points = []\n",
    "    labels = []\n",
    "    \n",
    "    # Generate positive points inside the circle.\n",
    "    for i in range(num_samples // 2):\n",
    "        r = np.random.uniform(0, 0.5 * radius)\n",
    "        angle = np.random.uniform(0, 2 * np.math.pi)\n",
    "        x = r * np.math.sin(angle)\n",
    "        y = r * np.math.cos(angle)\n",
    "        noise_x = np.random.uniform(-radius, radius) * noise;\n",
    "        noise_y = np.random.uniform(-radius, radius) * noise;\n",
    "        label = get_circle_label(x + noise_x, y + noise_y)\n",
    "        points.append([x,y])\n",
    "        labels.append(label)\n",
    "        \n",
    "    # Generate negative points inside the circle.\n",
    "    for i in range(num_samples // 2):\n",
    "        r = np.random.uniform(radius * 0.7, radius)\n",
    "        angle = np.random.uniform(0, 2 * np.math.pi)\n",
    "        x = r * np.math.sin(angle)\n",
    "        y = r * np.math.cos(angle)\n",
    "        noise_x = np.random.uniform(-radius, radius) * noise;\n",
    "        noise_y = np.random.uniform(-radius, radius) * noise;\n",
    "        label = get_circle_label(x + noise_x, y + noise_y)\n",
    "        points.append([x,y])\n",
    "        labels.append(label)\n",
    "    \n",
    "    return np.array(points), np.array(labels)"
   ]
  },
  {
   "cell_type": "code",
   "execution_count": 8,
   "metadata": {
    "collapsed": true
   },
   "outputs": [],
   "source": [
    "def classify_xor_data(num_samples=1, noise=0):\n",
    "    radius = 5\n",
    "    def get_xor_label(x, y):\n",
    "        return 1 if x * y >= 0 else 0\n",
    "    points = []\n",
    "    labels = []\n",
    "    padding = 0.3\n",
    "    for i in range(num_samples):\n",
    "        x = np.random.uniform(-5, 5)\n",
    "        x += (padding if x >0 else -padding)\n",
    "        y = np.random.uniform(-5, 5)\n",
    "        y += (padding if y >0 else -padding)\n",
    "        noise_x = np.random.uniform(-radius, radius) * noise;\n",
    "        noise_y = np.random.uniform(-radius, radius) * noise;\n",
    "        label = get_xor_label(x + noise_x, y + noise_y)\n",
    "        points.append([x,y])\n",
    "        labels.append(label)\n",
    "    return np.array(points), np.array(labels)"
   ]
  },
  {
   "cell_type": "code",
   "execution_count": 9,
   "metadata": {
    "collapsed": true
   },
   "outputs": [],
   "source": [
    "def classify_spiral_data(num_samples=1, noise=0):\n",
    "    points = []\n",
    "    labels = []\n",
    "    n = num_samples // 2\n",
    "    def gen_spiral(deltaT, label):\n",
    "        for i in range(n):\n",
    "            r = i / n * 5\n",
    "            t = 1.75 * i / n * 2 * np.math.pi + deltaT\n",
    "            x = r * np.math.sin(t) + np.random.uniform(-1, 1) * noise\n",
    "            y = r * np.math.cos(t) + np.random.uniform(-1, 1) * noise\n",
    "            points.append([x,y])\n",
    "            labels.append(label)\n",
    "    gen_spiral(0,1)\n",
    "    gen_spiral(np.math.pi, -1)\n",
    "    return np.array(points), np.array(labels)"
   ]
  },
  {
   "cell_type": "code",
   "execution_count": 10,
   "metadata": {
    "collapsed": true
   },
   "outputs": [],
   "source": [
    "data_gen = {'circle': classify_circle_data,\n",
    "            'xor': classify_xor_data,\n",
    "            'spiral': classify_spiral_data}"
   ]
  },
  {
   "cell_type": "code",
   "execution_count": 11,
   "metadata": {
    "collapsed": false,
    "scrolled": true
   },
   "outputs": [
    {
     "data": {
      "image/png": "[encoded data removed]",
      "text/plain": [
       "<matplotlib.figure.Figure at 0x7fc96f40a0b8>"
      ]
     },
     "metadata": {},
     "output_type": "display_data"
    }
   ],
   "source": [
    "X1, Y1 = data_gen[dataset](num_samples=1000, noise=0.1)\n",
    "plt.scatter(X1[:, 0], X1[:, 1], marker='.', c=Y1)\n",
    "plt.axis([-5, 5, -5, 5])\n",
    "plt.show()"
   ]
  },
  {
   "cell_type": "code",
   "execution_count": 12,
   "metadata": {
    "collapsed": false
   },
   "outputs": [
    {
     "name": "stdout",
     "output_type": "stream",
     "text": [
      "train_xy.shape:  (500, 2)\n",
      "train_label.shape:  (500,)\n"
     ]
    }
   ],
   "source": [
    "train_xy, train_label = data_gen[dataset](num_samples=int(1000 * ratio_of_training), noise=noise)\n",
    "test_xy, test_label = data_gen[dataset](num_samples=int(1000 * (1 - ratio_of_training)), noise=noise)\n",
    "print (\"train_xy.shape: \", train_xy.shape)\n",
    "print (\"train_label.shape: \", train_label.shape)"
   ]
  },
  {
   "cell_type": "code",
   "execution_count": 13,
   "metadata": {
    "collapsed": false
   },
   "outputs": [
    {
     "name": "stdout",
     "output_type": "stream",
     "text": [
      "train_x.shape:  (500,)\n",
      "train_y.shape:  (500,)\n",
      "train_data.shape:  (500, 7)\n"
     ]
    }
   ],
   "source": [
    "train_x = train_xy[:, 0]\n",
    "train_y = train_xy[:, 1]\n",
    "print (\"train_x.shape: \", train_x.shape)\n",
    "print (\"train_y.shape: \", train_y.shape)\n",
    "test_x = test_xy[:, 0]\n",
    "test_y = test_xy[:, 1]\n",
    "\n",
    "train_list = []\n",
    "test_list = []\n",
    "for feature in features:\n",
    "    if feature == 'x':\n",
    "        train_list.append(train_x)\n",
    "        test_list.append(test_x)\n",
    "    if feature == 'y':\n",
    "        train_list.append(train_y)\n",
    "        test_list.append(test_y)\n",
    "    if feature == 'x**2':\n",
    "        train_list.append(np.square(train_x))\n",
    "        test_list.append(np.square(test_x))\n",
    "    if feature == 'y**2':\n",
    "        train_list.append(np.square(train_y))\n",
    "        test_list.append(np.square(test_y))\n",
    "    if feature == 'x*y':\n",
    "        train_list.append(train_x * train_y)\n",
    "        test_list.append(test_x * test_y)\n",
    "    if feature == 'sinx':\n",
    "        train_list.append(np.sin(train_x))\n",
    "        test_list.append(np.sin(test_x))\n",
    "    if feature == 'siny':\n",
    "        train_list.append(np.sin(train_y))\n",
    "        test_list.append(np.sin(test_y))\n",
    "\n",
    "train_data = np.stack(train_list, axis=1)\n",
    "test_data = np.stack(test_list, axis=1)\n",
    "# king\n",
    "print (\"train_data.shape: \", train_data.shape)"
   ]
  },
  {
   "cell_type": "code",
   "execution_count": 14,
   "metadata": {
    "collapsed": true
   },
   "outputs": [],
   "source": [
    "# def get_model(layers=[], activation='relu', input_shape=(2,)):\n",
    "#     model = keras.Sequential()\n",
    "#     if layers:\n",
    "#         model.add(keras.layers.Dense(\n",
    "#             layers[0], activation=activation, kernel_regularizer=regularizer, input_shape=input_shape))\n",
    "#         for units in layers[1:]:\n",
    "#             model.add(keras.layers.Dense(\n",
    "#                 units=units, activation=activation, kernel_regularizer=regularizer))\n",
    "#     model.add(keras.layers.Dense(2, activation='softmax'))\n",
    "#     return model\n",
    "# model = get_model(layers=layers, activation='relu',input_shape = (len(features),))"
   ]
  },
  {
   "cell_type": "code",
   "execution_count": 15,
   "metadata": {
    "collapsed": false
   },
   "outputs": [],
   "source": [
    "inputs = keras.Input(shape=(len(features),))\n",
    "x = inputs\n",
    "for units in layers:\n",
    "    x = keras.layers.Dense(units, activation=tf.nn.tanh, kernel_regularizer=regularizer)(x)\n",
    "outputs = keras.layers.Dense(2, activation=tf.nn.softmax, kernel_regularizer=regularizer)(x)\n",
    "model = keras.Model(inputs=inputs, outputs=outputs)"
   ]
  },
  {
   "cell_type": "code",
   "execution_count": 16,
   "metadata": {
    "collapsed": true
   },
   "outputs": [],
   "source": [
    "# class Model(tf.keras.Model):\n",
    "#   def __init__(self, layers, activation):\n",
    "#     super(Model, self).__init__()\n",
    "#     self.fcs = [keras.layers.Dense(units, activation=activation) for units in layers]\n",
    "#     self.classifier = keras.layers.Dense(2, activation=tf.nn.softmax)\n",
    "    \n",
    "#   def call(self, x):\n",
    "#     for fc in self.fcs:\n",
    "#         x = fc(x)\n",
    "#     return self.classifier(x)\n",
    "\n",
    "# model = Model(layers, activation)"
   ]
  },
  {
   "cell_type": "code",
   "execution_count": 17,
   "metadata": {
    "collapsed": true
   },
   "outputs": [],
   "source": [
    "keras.utils.plot_model(model, to_file='model.png', show_shapes=True)"
   ]
  },
  {
   "cell_type": "markdown",
   "metadata": {},
   "source": [
    "<img src='model.png'>"
   ]
  },
  {
   "cell_type": "code",
   "execution_count": 18,
   "metadata": {
    "collapsed": true
   },
   "outputs": [],
   "source": [
    "model.compile(optimizer=tf.train.GradientDescentOptimizer(learning_rate=lr), \n",
    "              loss=\"sparse_categorical_crossentropy\",\n",
    "              metrics=['accuracy'])"
   ]
  },
  {
   "cell_type": "code",
   "execution_count": 19,
   "metadata": {
    "collapsed": true
   },
   "outputs": [],
   "source": [
    "model.build(tf.TensorShape([batch_size, len(features)]))"
   ]
  },
  {
   "cell_type": "code",
   "execution_count": 20,
   "metadata": {
    "collapsed": false
   },
   "outputs": [
    {
     "name": "stdout",
     "output_type": "stream",
     "text": [
      "_________________________________________________________________\n",
      "Layer (type)                 Output Shape              Param #   \n",
      "=================================================================\n",
      "input_1 (InputLayer)         (None, 7)                 0         \n",
      "_________________________________________________________________\n",
      "dense_1 (Dense)              (None, 6)                 48        \n",
      "_________________________________________________________________\n",
      "dense_2 (Dense)              (None, 8)                 56        \n",
      "_________________________________________________________________\n",
      "dense_3 (Dense)              (None, 6)                 54        \n",
      "_________________________________________________________________\n",
      "dense_4 (Dense)              (None, 6)                 42        \n",
      "_________________________________________________________________\n",
      "dense_5 (Dense)              (None, 2)                 14        \n",
      "=================================================================\n",
      "Total params: 214\n",
      "Trainable params: 214\n",
      "Non-trainable params: 0\n",
      "_________________________________________________________________\n"
     ]
    }
   ],
   "source": [
    "model.summary()"
   ]
  },
  {
   "cell_type": "code",
   "execution_count": 21,
   "metadata": {
    "collapsed": false
   },
   "outputs": [
    {
     "name": "stdout",
     "output_type": "stream",
     "text": [
      "train_data.shape:  (500, 7)\n",
      "train_label.shape:  (500,)\n"
     ]
    }
   ],
   "source": [
    "print (\"train_data.shape: \", train_data.shape)\n",
    "print (\"train_label.shape: \", train_label.shape)"
   ]
  },
  {
   "cell_type": "code",
   "execution_count": 22,
   "metadata": {
    "collapsed": false
   },
   "outputs": [
    {
     "name": "stdout",
     "output_type": "stream",
     "text": [
      "Epoch 1/10\n",
      "500/500 [==============================] - 0s 623us/step - loss: 0.5763 - acc: 0.8000\n",
      "Epoch 2/10\n",
      "500/500 [==============================] - 0s 144us/step - loss: 0.3787 - acc: 0.9120\n",
      "Epoch 3/10\n",
      "500/500 [==============================] - 0s 158us/step - loss: 0.2939 - acc: 0.9320\n",
      "Epoch 4/10\n",
      "500/500 [==============================] - 0s 159us/step - loss: 0.2590 - acc: 0.9380\n",
      "Epoch 5/10\n",
      "500/500 [==============================] - 0s 151us/step - loss: 0.2582 - acc: 0.9280\n",
      "Epoch 6/10\n",
      "500/500 [==============================] - 0s 163us/step - loss: 0.2474 - acc: 0.9300\n",
      "Epoch 7/10\n",
      "500/500 [==============================] - 0s 173us/step - loss: 0.2455 - acc: 0.9340\n",
      "Epoch 8/10\n",
      "500/500 [==============================] - 0s 177us/step - loss: 0.2510 - acc: 0.9360\n",
      "Epoch 9/10\n",
      "500/500 [==============================] - 0s 176us/step - loss: 0.2365 - acc: 0.9420\n",
      "Epoch 10/10\n",
      "500/500 [==============================] - 0s 195us/step - loss: 0.2362 - acc: 0.9340\n"
     ]
    },
    {
     "data": {
      "text/plain": [
       "<tensorflow.python.keras._impl.keras.callbacks.History at 0x7fc96f3dfe80>"
      ]
     },
     "execution_count": 22,
     "metadata": {},
     "output_type": "execute_result"
    }
   ],
   "source": [
    "model.fit(train_data, train_label, epochs=epochs, batch_size=batch_size)"
   ]
  },
  {
   "cell_type": "code",
   "execution_count": null,
   "metadata": {
    "collapsed": true
   },
   "outputs": [],
   "source": [
    "import os\n",
    "# Directory where the checkpoints will be saved\n",
    "checkpoint_dir = './training_checkpoints'\n",
    "# Name of the checkpoint files\n",
    "checkpoint_prefix = os.path.join(checkpoint_dir, \"ckpt\")"
   ]
  },
  {
   "cell_type": "code",
   "execution_count": null,
   "metadata": {
    "collapsed": false
   },
   "outputs": [],
   "source": [
    "model.save_weights(checkpoint_prefix)"
   ]
  },
  {
   "cell_type": "code",
   "execution_count": null,
   "metadata": {
    "collapsed": true
   },
   "outputs": [],
   "source": [
    "# model = Model(layers, activation)\n",
    "# model = get_model(layers=layers, activation='relu',input_shape = (len(features),))\n",
    "model = keras.Model(inputs=inputs, outputs=outputs)\n",
    "\n",
    "model.load_weights(tf.train.latest_checkpoint(checkpoint_dir))\n",
    "\n",
    "model.compile(optimizer=tf.train.GradientDescentOptimizer(learning_rate=lr), \n",
    "              loss=\"sparse_categorical_crossentropy\",\n",
    "              metrics=['accuracy'])\n",
    "\n",
    "# model.build(tf.TensorShape([1, len(features)]))"
   ]
  },
  {
   "cell_type": "code",
   "execution_count": null,
   "metadata": {
    "collapsed": true
   },
   "outputs": [],
   "source": [
    "model.evaluate(test_data,test_label)"
   ]
  },
  {
   "cell_type": "code",
   "execution_count": null,
   "metadata": {
    "collapsed": true
   },
   "outputs": [],
   "source": [
    "X1, Y1 = test_data, test_label\n",
    "plt.scatter(X1[:, 0], X1[:, 1], marker='.', c=Y1)\n",
    "plt.axis([-5, 5, -5, 5])\n",
    "plt.show()"
   ]
  },
  {
   "cell_type": "code",
   "execution_count": null,
   "metadata": {
    "collapsed": true
   },
   "outputs": [],
   "source": [
    "X2, Y2 = test_data, np.argmax(model.predict(test_data),axis=1)\n",
    "plt.scatter(X2[:, 0], X2[:, 1], marker='.', c=Y2)\n",
    "plt.axis([-5, 5, -5, 5])\n",
    "plt.show()"
   ]
  },
  {
   "cell_type": "code",
   "execution_count": null,
   "metadata": {
    "collapsed": true
   },
   "outputs": [],
   "source": []
  }
 ],
 "metadata": {
  "anaconda-cloud": {},
  "kernelspec": {
   "display_name": "Python [conda env:tensorflow]",
   "language": "python",
   "name": "conda-env-tensorflow-py"
  },
  "language_info": {
   "codemirror_mode": {
    "name": "ipython",
    "version": 3
   },
   "file_extension": ".py",
   "mimetype": "text/x-python",
   "name": "python",
   "nbconvert_exporter": "python",
   "pygments_lexer": "ipython3",
   "version": "3.5.4"
  }
 },
 "nbformat": 4,
 "nbformat_minor": 2
}
