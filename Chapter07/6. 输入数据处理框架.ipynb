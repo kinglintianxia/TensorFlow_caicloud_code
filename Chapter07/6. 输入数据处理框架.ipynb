{
 "cells": [
  {
   "cell_type": "code",
   "execution_count": 1,
   "metadata": {},
   "outputs": [],
   "source": [
    "import tensorflow as tf"
   ]
  },
  {
   "cell_type": "markdown",
   "metadata": {},
   "source": [
    "#### 1. 创建文件列表，通过文件列表创建输入文件队列，读取文件为本章第一节创建的文件。"
   ]
  },
  {
   "cell_type": "code",
   "execution_count": 2,
   "metadata": {},
   "outputs": [
    {
     "name": "stdout",
     "output_type": "stream",
     "text": [
      "WARNING:tensorflow:From /home/jun/.local/lib/python2.7/site-packages/tensorflow/python/training/input.py:187: __init__ (from tensorflow.python.training.queue_runner_impl) is deprecated and will be removed in a future version.\n",
      "Instructions for updating:\n",
      "To construct input pipelines, use the `tf.data` module.\n",
      "WARNING:tensorflow:From /home/jun/.local/lib/python2.7/site-packages/tensorflow/python/training/input.py:187: add_queue_runner (from tensorflow.python.training.queue_runner_impl) is deprecated and will be removed in a future version.\n",
      "Instructions for updating:\n",
      "To construct input pipelines, use the `tf.data` module.\n"
     ]
    }
   ],
   "source": [
    "# 获取文件列表\n",
    "files = tf.train.match_filenames_once(\"output.tfrecords\") # 包含训练数据的TFRecord文件\n",
    "# 创建一个队列来维护输入文件列表。\n",
    "filename_queue = tf.train.string_input_producer(files, shuffle=False) "
   ]
  },
  {
   "cell_type": "markdown",
   "metadata": {},
   "source": [
    "#### 3. 解析TFRecord文件里的数据。"
   ]
  },
  {
   "cell_type": "code",
   "execution_count": 3,
   "metadata": {},
   "outputs": [],
   "source": [
    "# 读取文件。\n",
    "reader = tf.TFRecordReader()\n",
    "_,serialized_example = reader.read(filename_queue)\n",
    "\n",
    "# 解析读取的样例。mnist数据集\n",
    "# 同 ‘1.TFRecord样例程序‘\n",
    "features = tf.parse_single_example(\n",
    "    serialized_example,\n",
    "    features={\n",
    "        'image_raw':tf.FixedLenFeature([],tf.string),\n",
    "        'pixels':tf.FixedLenFeature([],tf.int64),  # 训练数据的图像分辨率\n",
    "        'label':tf.FixedLenFeature([],tf.int64)\n",
    "    })\n",
    "\n",
    "decoded_images = tf.decode_raw(features['image_raw'],tf.uint8)\n",
    "retyped_images = tf.cast(decoded_images, tf.float32) # [0,1],float\n",
    "labels = tf.cast(features['label'],tf.int32)  # \n",
    "#pixels = tf.cast(features['pixels'],tf.int32)\n",
    "images = tf.reshape(retyped_images, [784]) # 28*28=784"
   ]
  },
  {
   "cell_type": "markdown",
   "metadata": {},
   "source": [
    "#### 4. 将文件以100个为一组打包。"
   ]
  },
  {
   "cell_type": "code",
   "execution_count": 4,
   "metadata": {},
   "outputs": [],
   "source": [
    "min_after_dequeue = 10000\n",
    "batch_size = 100\n",
    "capacity = min_after_dequeue + 3 * batch_size\n",
    "# tf.train.shuffle_batch，多线程并行数据预处理。\n",
    "image_batch, label_batch = tf.train.shuffle_batch([images, labels], \n",
    "                                                    batch_size=batch_size, \n",
    "                                                    capacity=capacity, \n",
    "                                                    min_after_dequeue=min_after_dequeue)"
   ]
  },
  {
   "cell_type": "markdown",
   "metadata": {},
   "source": [
    "#### 5. 训练模型。"
   ]
  },
  {
   "cell_type": "code",
   "execution_count": 5,
   "metadata": {},
   "outputs": [],
   "source": [
    "def inference(input_tensor, weights1, biases1, weights2, biases2):\n",
    "    layer1 = tf.nn.relu(tf.matmul(input_tensor, weights1) + biases1)\n",
    "    return tf.matmul(layer1, weights2) + biases2"
   ]
  },
  {
   "cell_type": "code",
   "execution_count": 6,
   "metadata": {},
   "outputs": [
    {
     "name": "stdout",
     "output_type": "stream",
     "text": [
      "WARNING:tensorflow:From <ipython-input-6-678e87622571>:36: start_queue_runners (from tensorflow.python.training.queue_runner_impl) is deprecated and will be removed in a future version.\n",
      "Instructions for updating:\n",
      "To construct input pipelines, use the `tf.data` module.\n",
      "After 0 training step(s), loss is 406.882 \n",
      "After 1000 training step(s), loss is 7.02516 \n",
      "After 2000 training step(s), loss is 6.85877 \n",
      "After 3000 training step(s), loss is 6.6526 \n",
      "After 4000 training step(s), loss is 7.08658 \n"
     ]
    }
   ],
   "source": [
    "# 模型相关的参数\n",
    "INPUT_NODE = 784\n",
    "OUTPUT_NODE = 10\n",
    "LAYER1_NODE = 500\n",
    "REGULARAZTION_RATE = 0.0001   \n",
    "TRAINING_STEPS = 5000        \n",
    "\n",
    "weights1 = tf.Variable(tf.truncated_normal([INPUT_NODE, LAYER1_NODE], stddev=0.1))\n",
    "biases1 = tf.Variable(tf.constant(0.1, shape=[LAYER1_NODE]))\n",
    "\n",
    "weights2 = tf.Variable(tf.truncated_normal([LAYER1_NODE, OUTPUT_NODE], stddev=0.1))\n",
    "biases2 = tf.Variable(tf.constant(0.1, shape=[OUTPUT_NODE]))\n",
    "\n",
    "y = inference(image_batch, weights1, biases1, weights2, biases2)\n",
    "    \n",
    "# 计算交叉熵及其平均值\n",
    "# tf.nn.softmax_cross_entropy_with_logits() = softmax + cross_entropy\n",
    "# 在只有一个答案的分类问题中，只用`sparse_softmax_cross_entropy_with_logits`加速计算\n",
    "cross_entropy = tf.nn.sparse_softmax_cross_entropy_with_logits(logits=y, labels=label_batch)\n",
    "cross_entropy_mean = tf.reduce_mean(cross_entropy)\n",
    "    \n",
    "# 损失函数的计算\n",
    "regularizer = tf.contrib.layers.l2_regularizer(REGULARAZTION_RATE)\n",
    "regularaztion = regularizer(weights1) + regularizer(weights2)\n",
    "loss = cross_entropy_mean + regularaztion\n",
    "\n",
    "# 优化损失函数\n",
    "train_step = tf.train.GradientDescentOptimizer(0.01).minimize(loss)\n",
    "\n",
    "# 初始化会话，并开始训练过程。\n",
    "with tf.Session() as sess:\n",
    "    # tf.global_variables_initializer().run()\n",
    "    sess.run((tf.global_variables_initializer(),\n",
    "              tf.local_variables_initializer()))\n",
    "    # tf.train.Coordinator用于协同多个线程一起停止.\n",
    "    coord = tf.train.Coordinator()\n",
    "    # 启动所有线程\n",
    "    threads = tf.train.start_queue_runners(sess=sess, coord=coord)\n",
    "    # 循环的训练神经网络。\n",
    "    for i in range(TRAINING_STEPS):\n",
    "        if i % 1000 == 0:\n",
    "            print(\"After %d training step(s), loss is %g \" % (i, sess.run(loss)))\n",
    "                  \n",
    "        sess.run(train_step) \n",
    "    coord.request_stop()\n",
    "    coord.join(threads)       "
   ]
  },
  {
   "cell_type": "code",
   "execution_count": null,
   "metadata": {},
   "outputs": [],
   "source": []
  }
 ],
 "metadata": {
  "kernelspec": {
   "display_name": "Python 2",
   "language": "python",
   "name": "python2"
  },
  "language_info": {
   "codemirror_mode": {
    "name": "ipython",
    "version": 2
   },
   "file_extension": ".py",
   "mimetype": "text/x-python",
   "name": "python",
   "nbconvert_exporter": "python",
   "pygments_lexer": "ipython2",
   "version": "2.7.12"
  }
 },
 "nbformat": 4,
 "nbformat_minor": 1
}
