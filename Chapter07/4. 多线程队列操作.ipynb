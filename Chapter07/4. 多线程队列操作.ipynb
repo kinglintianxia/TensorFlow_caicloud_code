{
 "cells": [
  {
   "cell_type": "code",
   "execution_count": 1,
   "metadata": {},
   "outputs": [],
   "source": [
    "import tensorflow as tf"
   ]
  },
  {
   "cell_type": "markdown",
   "metadata": {},
   "source": [
    "#### 1. 定义队列及其操作。\n",
    "* tf.train.Coordinator用于协同多个线程一起停止.\n",
    "* tf.train.QueueRunner 用于启动多个线程来操作同一队列."
   ]
  },
  {
   "cell_type": "code",
   "execution_count": 2,
   "metadata": {},
   "outputs": [
    {
     "name": "stdout",
     "output_type": "stream",
     "text": [
      "WARNING:tensorflow:From <ipython-input-2-9c76f59809e8>:6: __init__ (from tensorflow.python.training.queue_runner_impl) is deprecated and will be removed in a future version.\n",
      "Instructions for updating:\n",
      "To construct input pipelines, use the `tf.data` module.\n",
      "WARNING:tensorflow:From <ipython-input-2-9c76f59809e8>:8: add_queue_runner (from tensorflow.python.training.queue_runner_impl) is deprecated and will be removed in a future version.\n",
      "Instructions for updating:\n",
      "To construct input pipelines, use the `tf.data` module.\n"
     ]
    }
   ],
   "source": [
    "# 声明先入先出队列，100个元素，实数类型\n",
    "queue = tf.FIFOQueue(100,\"float\")\n",
    "# 定义入队列操作。\n",
    "enqueue_op = queue.enqueue([tf.random_normal([1])])\n",
    "# queue: A Queue; enqueue_ops: List of enqueue ops to run in threads later.\n",
    "qr = tf.train.QueueRunner(queue, [enqueue_op] * 5)\n",
    "# 将‘qr’加入tf计算图上指定的集合，默认为‘tf.GraphKeys.QUEUE_RUNNERS’集合.\n",
    "tf.train.add_queue_runner(qr)\n",
    "# 定义出队列操作\n",
    "out_tensor = queue.dequeue()"
   ]
  },
  {
   "cell_type": "markdown",
   "metadata": {},
   "source": [
    "#### 2. 启动线程。\n",
    "* 使用`tf.train.QueueRunner`时，需要明确调用`tf.train.start_queue_runners`来启动所有线程。否则没有线程进行入队列操作。"
   ]
  },
  {
   "cell_type": "code",
   "execution_count": 3,
   "metadata": {},
   "outputs": [
    {
     "name": "stdout",
     "output_type": "stream",
     "text": [
      "WARNING:tensorflow:From <ipython-input-3-3d3157db0801>:3: start_queue_runners (from tensorflow.python.training.queue_runner_impl) is deprecated and will be removed in a future version.\n",
      "Instructions for updating:\n",
      "To construct input pipelines, use the `tf.data` module.\n",
      "-0.5597884\n",
      "-1.1634085\n",
      "-0.031584352\n"
     ]
    }
   ],
   "source": [
    "with tf.Session() as sess:\n",
    "    coord = tf.train.Coordinator() # 协同多个线程一起停止.\n",
    "    threads = tf.train.start_queue_runners(sess=sess, coord=coord) # 与tf.train.add_queue_runner同集合。\n",
    "    for _ in range(3): \n",
    "        print sess.run(out_tensor)[0]\n",
    "    coord.request_stop() # stop all threads.\n",
    "    coord.join(threads)"
   ]
  },
  {
   "cell_type": "code",
   "execution_count": null,
   "metadata": {},
   "outputs": [],
   "source": []
  }
 ],
 "metadata": {
  "kernelspec": {
   "display_name": "Python 2",
   "language": "python",
   "name": "python2"
  },
  "language_info": {
   "codemirror_mode": {
    "name": "ipython",
    "version": 2
   },
   "file_extension": ".py",
   "mimetype": "text/x-python",
   "name": "python",
   "nbconvert_exporter": "python",
   "pygments_lexer": "ipython2",
   "version": "2.7.12"
  }
 },
 "nbformat": 4,
 "nbformat_minor": 1
}
