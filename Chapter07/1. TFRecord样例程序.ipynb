{
 "cells": [
  {
   "cell_type": "code",
   "execution_count": 1,
   "metadata": {},
   "outputs": [],
   "source": [
    "import tensorflow as tf\n",
    "from tensorflow.examples.tutorials.mnist import input_data\n",
    "import numpy as np"
   ]
  },
  {
   "cell_type": "markdown",
   "metadata": {},
   "source": [
    "#### 1. 将输入转化成TFRecord格式并保存。"
   ]
  },
  {
   "cell_type": "code",
   "execution_count": 2,
   "metadata": {},
   "outputs": [
    {
     "name": "stdout",
     "output_type": "stream",
     "text": [
      "WARNING:tensorflow:From <ipython-input-2-ac1e11fbfc44>:20: read_data_sets (from tensorflow.contrib.learn.python.learn.datasets.mnist) is deprecated and will be removed in a future version.\n",
      "Instructions for updating:\n",
      "Please use alternatives such as official/mnist/dataset.py from tensorflow/models.\n",
      "WARNING:tensorflow:From /home/jun/.local/lib/python2.7/site-packages/tensorflow/contrib/learn/python/learn/datasets/mnist.py:260: maybe_download (from tensorflow.contrib.learn.python.learn.datasets.base) is deprecated and will be removed in a future version.\n",
      "Instructions for updating:\n",
      "Please write your own downloading logic.\n",
      "WARNING:tensorflow:From /home/jun/.local/lib/python2.7/site-packages/tensorflow/contrib/learn/python/learn/datasets/mnist.py:262: extract_images (from tensorflow.contrib.learn.python.learn.datasets.mnist) is deprecated and will be removed in a future version.\n",
      "Instructions for updating:\n",
      "Please use tf.data to implement this functionality.\n",
      "Extracting ../0_datasets/MNIST_data/train-images-idx3-ubyte.gz\n",
      "WARNING:tensorflow:From /home/jun/.local/lib/python2.7/site-packages/tensorflow/contrib/learn/python/learn/datasets/mnist.py:267: extract_labels (from tensorflow.contrib.learn.python.learn.datasets.mnist) is deprecated and will be removed in a future version.\n",
      "Instructions for updating:\n",
      "Please use tf.data to implement this functionality.\n",
      "Extracting ../0_datasets/MNIST_data/train-labels-idx1-ubyte.gz\n",
      "WARNING:tensorflow:From /home/jun/.local/lib/python2.7/site-packages/tensorflow/contrib/learn/python/learn/datasets/mnist.py:110: dense_to_one_hot (from tensorflow.contrib.learn.python.learn.datasets.mnist) is deprecated and will be removed in a future version.\n",
      "Instructions for updating:\n",
      "Please use tf.one_hot on tensors.\n",
      "Extracting ../0_datasets/MNIST_data/t10k-images-idx3-ubyte.gz\n",
      "Extracting ../0_datasets/MNIST_data/t10k-labels-idx1-ubyte.gz\n",
      "WARNING:tensorflow:From /home/jun/.local/lib/python2.7/site-packages/tensorflow/contrib/learn/python/learn/datasets/mnist.py:290: __init__ (from tensorflow.contrib.learn.python.learn.datasets.mnist) is deprecated and will be removed in a future version.\n",
      "Instructions for updating:\n",
      "Please use alternatives such as official/mnist/dataset.py from tensorflow/models.\n",
      "TFRecord训练文件已保存。\n",
      "TFRecord测试文件已保存。\n"
     ]
    }
   ],
   "source": [
    "# 定义函数转化变量类型。\n",
    "# 生成整数型属性\n",
    "def _int64_feature(value):\n",
    "    return tf.train.Feature(int64_list=tf.train.Int64List(value=[value]))\n",
    "# 生成字符串型属性\n",
    "def _bytes_feature(value):\n",
    "    return tf.train.Feature(bytes_list=tf.train.BytesList(value=[value]))\n",
    "\n",
    "# 将数据转化为tf.train.Example格式。\n",
    "def _make_example(pixels, label, image):\n",
    "    image_raw = image.tostring()\n",
    "    example = tf.train.Example(features=tf.train.Features(feature={\n",
    "        'pixels': _int64_feature(pixels), # 训练数据的图像分辨率\n",
    "        'label': _int64_feature(np.argmax(label)),\n",
    "        'image_raw': _bytes_feature(image_raw)\n",
    "    }))\n",
    "    return example\n",
    "\n",
    "# 读取mnist训练数据。\n",
    "mnist = input_data.read_data_sets(\"../0_datasets/MNIST_data\",dtype=tf.uint8, one_hot=True)\n",
    "images = mnist.train.images\n",
    "labels = mnist.train.labels\n",
    "pixels = images.shape[1] # 训练数据的图像分辨率\n",
    "num_examples = mnist.train.num_examples\n",
    "\n",
    "# 输出包含训练数据的TFRecord文件。\n",
    "with tf.python_io.TFRecordWriter(\"output.tfrecords\") as writer: # wirter\n",
    "    for index in range(num_examples):\n",
    "        example = _make_example(pixels, labels[index], images[index])\n",
    "        writer.write(example.SerializeToString())\n",
    "print(\"TFRecord训练文件已保存。\")\n",
    "\n",
    "# 读取mnist测试数据。\n",
    "images_test = mnist.test.images\n",
    "labels_test = mnist.test.labels\n",
    "pixels_test = images_test.shape[1]\n",
    "num_examples_test = mnist.test.num_examples\n",
    "\n",
    "# 输出包含测试数据的TFRecord文件。\n",
    "with tf.python_io.TFRecordWriter(\"output_test.tfrecords\") as writer:\n",
    "    for index in range(num_examples_test):\n",
    "        example = _make_example(\n",
    "            pixels_test, labels_test[index], images_test[index])\n",
    "        writer.write(example.SerializeToString())\n",
    "print(\"TFRecord测试文件已保存。\")"
   ]
  },
  {
   "cell_type": "markdown",
   "metadata": {},
   "source": [
    "#### 2. 读取TFRecord文件\n",
    "* tf.train.string_input_producer"
   ]
  },
  {
   "cell_type": "code",
   "execution_count": 3,
   "metadata": {
    "collapsed": true
   },
   "outputs": [],
   "source": [
    "# 读取文件。\n",
    "reader = tf.TFRecordReader()\n",
    "# 创建一个队列来维护输入文件列表。\n",
    "filename_queue = tf.train.string_input_producer([\"output.tfrecords\"]) #　train.tfrecords\n",
    "# 从文件中读取一个样例，也可以使用`read_up_to()`一次性读取多个样例。\n",
    "_,serialized_example = reader.read(filename_queue)\n",
    "\n",
    "# 解析读取的一个样例。解析多个样例，使用`parse_example()`函数。\n",
    "features = tf.parse_single_example(\n",
    "    serialized_example,\n",
    "    features={\n",
    "        # tf.FixedLenFeature解析为一个tensor;\n",
    "        # tf.VarLenFeature解析为SparseTensor,用于处理稀疏数据。\n",
    "        # 解析时的格式要和写入tfrecords时一致。\n",
    "        'image_raw':tf.FixedLenFeature([],tf.string),\n",
    "        'pixels':tf.FixedLenFeature([],tf.int64),\n",
    "        'label':tf.FixedLenFeature([],tf.int64)\n",
    "    })\n",
    "# tf.decode_raw将字符串解析为图像的像素数组。\n",
    "images = tf.decode_raw(features['image_raw'],tf.uint8)\n",
    "labels = tf.cast(features['label'],tf.int32)\n",
    "pixels = tf.cast(features['pixels'],tf.int32)\n",
    "# 会话\n",
    "sess = tf.Session()\n",
    "\n",
    "# 启动多线程处理输入数据。\n",
    "coord = tf.train.Coordinator() # 该类实现了一种简单的机制来协调一组线程的终止。\n",
    "threads = tf.train.start_queue_runners(sess=sess,coord=coord)\n",
    "# 每次运行可以读取TFRecords文件中的一个example,所有样例读取完后，在此样例中程序会重头读取。\n",
    "for i in range(10):\n",
    "    image, label, pixel = sess.run([images, labels, pixels])"
   ]
  }
 ],
 "metadata": {
  "kernelspec": {
   "display_name": "Python 2",
   "language": "python",
   "name": "python2"
  },
  "language_info": {
   "codemirror_mode": {
    "name": "ipython",
    "version": 2
   },
   "file_extension": ".py",
   "mimetype": "text/x-python",
   "name": "python",
   "nbconvert_exporter": "python",
   "pygments_lexer": "ipython2",
   "version": "2.7.12"
  }
 },
 "nbformat": 4,
 "nbformat_minor": 1
}
