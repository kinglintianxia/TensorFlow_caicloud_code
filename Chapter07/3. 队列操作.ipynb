{
 "cells": [
  {
   "cell_type": "code",
   "execution_count": 1,
   "metadata": {},
   "outputs": [],
   "source": [
    "import tensorflow as tf"
   ]
  },
  {
   "cell_type": "markdown",
   "metadata": {},
   "source": [
    "#### 1. 创建队列，并操作里面的元素。\n",
    "* [run](https://www.tensorflow.org/api_docs/python/tf/Session#run)\n",
    "```shell\n",
    "run(\n",
    "    fetches,\n",
    "    feed_dict=None,\n",
    "    options=None,\n",
    "    run_metadata=None\n",
    ")\n",
    "```\n",
    "* Runs operations and evaluates tensors in fetches.\n",
    "* This method runs one \"step\" of TensorFlow computation.\n",
    "* "
   ]
  },
  {
   "cell_type": "code",
   "execution_count": 7,
   "metadata": {},
   "outputs": [
    {
     "name": "stdout",
     "output_type": "stream",
     "text": [
      "q[0]:  0\n",
      "q[0]:  10\n",
      "q[0]:  1\n",
      "q[0]:  11\n",
      "q[0]:  2\n"
     ]
    }
   ],
   "source": [
    "#  创建一个先进先出队列，两个元素，类型为整数。\n",
    "q = tf.FIFOQueue(2, \"int32\")\n",
    "# 初始化队列，需明确调用(init.run())\n",
    "init = q.enqueue_many(([0, 10],))\n",
    "# 出队列给x\n",
    "x = q.dequeue()\n",
    "y = x + 1\n",
    "# 加1后再入队列。\n",
    "q_inc = q.enqueue([y])\n",
    "with tf.Session() as sess:\n",
    "    init.run() # 需明确调用\n",
    "    for _ in range(5):\n",
    "        # run `q_inc` 将执行‘出队列’，‘+1’，‘入队列’全过程。 \n",
    "        v, _ = sess.run([x, q_inc]) # 'fetches' can be a list.\n",
    "        print \"q[0]: \", v # v对应x."
   ]
  },
  {
   "cell_type": "code",
   "execution_count": 8,
   "metadata": {},
   "outputs": [],
   "source": [
    "import numpy as np\n",
    "import threading\n",
    "import time"
   ]
  },
  {
   "cell_type": "markdown",
   "metadata": {},
   "source": [
    "#### 2. 这个程序每隔1秒判断是否需要停止并打印自己的ID。"
   ]
  },
  {
   "cell_type": "code",
   "execution_count": 9,
   "metadata": {},
   "outputs": [],
   "source": [
    "def MyLoop(coord, worker_id):\n",
    "    while not coord.should_stop(): # 判断当前线程是否需要停止\n",
    "        if np.random.rand()<0.1:  #　random stop\n",
    "            print \"Stoping from id: %d\\n\" % worker_id,\n",
    "            coord.request_stop() # stop all threads. 通知其他线程停止。\n",
    "        else:\n",
    "            print \"Working on id: %d\\n\" % worker_id, \n",
    "        time.sleep(1)"
   ]
  },
  {
   "cell_type": "markdown",
   "metadata": {},
   "source": [
    "#### 3. 创建、启动并退出线程。\n",
    "* tf.train.Coordinator用于协同多个线程一起停止."
   ]
  },
  {
   "cell_type": "code",
   "execution_count": 11,
   "metadata": {},
   "outputs": [
    {
     "name": "stdout",
     "output_type": "stream",
     "text": [
      "Working on id: 0\n",
      "Working on id: 1\n",
      "Working on id: 2\n",
      "Working on id: 3\n",
      "Working on id: 4\n",
      "Working on id: 0\n",
      "Working on id: 1\n",
      "Working on id: 2\n",
      "Working on id: 3\n",
      "Working on id: 4\n",
      "Working on id: 0\n",
      "Working on id: 1\n",
      "Stoping from id: 2\n"
     ]
    }
   ],
   "source": [
    "coord = tf.train.Coordinator()\n",
    "# 启动５个线程。\n",
    "threads = [threading.Thread(target=MyLoop, args=(coord, i, )) for i in xrange(5)]\n",
    "for t in threads:t.start()\n",
    "coord.join(threads)　# 等待所有线程退出。"
   ]
  },
  {
   "cell_type": "code",
   "execution_count": null,
   "metadata": {},
   "outputs": [],
   "source": []
  }
 ],
 "metadata": {
  "kernelspec": {
   "display_name": "Python 2",
   "language": "python",
   "name": "python2"
  },
  "language_info": {
   "codemirror_mode": {
    "name": "ipython",
    "version": 2
   },
   "file_extension": ".py",
   "mimetype": "text/x-python",
   "name": "python",
   "nbconvert_exporter": "python",
   "pygments_lexer": "ipython2",
   "version": "2.7.12"
  }
 },
 "nbformat": 4,
 "nbformat_minor": 1
}
