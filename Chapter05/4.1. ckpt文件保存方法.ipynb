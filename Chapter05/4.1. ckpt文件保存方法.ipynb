{
 "cells": [
  {
   "cell_type": "code",
   "execution_count": 1,
   "metadata": {},
   "outputs": [],
   "source": [
    "import tensorflow as tf"
   ]
  },
  {
   "cell_type": "markdown",
   "metadata": {},
   "source": [
    "#### 1. 保存计算两个变量和的模型。\n",
    "#### 保存的模型会有三个文件：\n",
    "1. model.ckpt.meta: 保存了计算图的结构。\n",
    "2. model.ckpt: 保存了变量的取值。\n",
    "3. checkpoint: 保存了当前目录下所有模型文件目录列表。"
   ]
  },
  {
   "cell_type": "code",
   "execution_count": 2,
   "metadata": {},
   "outputs": [],
   "source": [
    "# tf.random_normal: get Gauss with (u=0,sigma=1), random seed =1\n",
    "# set seed: Repeatedly running this block with the same graph will generate the same\n",
    "# sequence of values for 'v', but different sequences of values for 'v'.\n",
    "v1 = tf.Variable(tf.random_normal([1], stddev=1, seed=1))\n",
    "v2 = tf.Variable(tf.random_normal([1], stddev=1, seed=1))\n",
    "result = v1+v2\n",
    "# Saver class\n",
    "saver = tf.train.Saver() # Saves and restores variables.\n",
    "# Session 会话\n",
    "with tf.Session() as sess:\n",
    "    tf.global_variables_initializer().run() # Init all variables.\n",
    "    saver.save(sess, \"saved_model/model.ckpt\")"
   ]
  },
  {
   "cell_type": "markdown",
   "metadata": {},
   "source": [
    "#### 2. 加载保存了两个变量和的模型。"
   ]
  },
  {
   "cell_type": "code",
   "execution_count": null,
   "metadata": {},
   "outputs": [],
   "source": [
    "with tf.Session() as sess:\n",
    "    saver.restore(sess, \"saved_model/model.ckpt\") # saver restore to sess.\n",
    "    print \"result: \", sess.run(result) # sess run model result."
   ]
  },
  {
   "cell_type": "markdown",
   "metadata": {},
   "source": [
    "#### 3. 直接加载持久化的图。因为之前没有导出v3，所以这里会报错。"
   ]
  },
  {
   "cell_type": "code",
   "execution_count": null,
   "metadata": {},
   "outputs": [],
   "source": [
    "saver = tf.train.import_meta_graph(\"saved_model/model.ckpt.meta\")\n",
    "v3 = tf.Variable(tf.random_normal([1], stddev=1, seed=1))\n",
    "\n",
    "# session\n",
    "with tf.Session() as sess:\n",
    "    saver.restore(sess, \"saved_model/model.ckpt\")\n",
    "    print \"sess.run(v1)： \", sess.run(v1) # v1=v2=[-0.8113182] in same session, because of `seed=1` set.\n",
    "    print \"sess.run(v2): \", sess.run(v2)\n",
    "#     print \"sess.run(v3): \", sess.run(v3) # Error, Attempting to use uninitialized value Variable_11\n"
   ]
  },
  {
   "cell_type": "markdown",
   "metadata": {},
   "source": [
    "#### 4. 变量重命名。"
   ]
  },
  {
   "cell_type": "code",
   "execution_count": 6,
   "metadata": {},
   "outputs": [],
   "source": [
    "v3 = tf.Variable(tf.constant(1.0, shape=[1]), name = \"other-v1\")\n",
    "v4 = tf.Variable(tf.constant(2.0, shape=[1]), name = \"other-v2\")\n",
    "# A dict of names to variables: The keys are the names that will be used to \n",
    "# save or restore the variables in the checkpoint files.\n",
    "saver = tf.train.Saver({\"v1\":v1, \"v2\":v2}) # \"v1\"->\"other-v1\", \"v2\"->\"other_v2\"\n",
    "\n",
    "# # sess\n",
    "# with tf.Session() as sess:\n",
    "#     tf.global_variables_initializer().run() # init all variables.\n",
    "#     saver.restore(sess, \"saved_model/model.ckpt\")\n",
    "#     print \"result: \", sess.run(result) #\n",
    "    "
   ]
  },
  {
   "cell_type": "code",
   "execution_count": null,
   "metadata": {},
   "outputs": [],
   "source": []
  }
 ],
 "metadata": {
  "kernelspec": {
   "display_name": "Python 2",
   "language": "python",
   "name": "python2"
  },
  "language_info": {
   "codemirror_mode": {
    "name": "ipython",
    "version": 2
   },
   "file_extension": ".py",
   "mimetype": "text/x-python",
   "name": "python",
   "nbconvert_exporter": "python",
   "pygments_lexer": "ipython2",
   "version": "2.7.12"
  }
 },
 "nbformat": 4,
 "nbformat_minor": 1
}
