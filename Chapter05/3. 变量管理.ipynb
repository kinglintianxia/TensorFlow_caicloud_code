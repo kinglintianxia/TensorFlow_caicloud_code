{
 "cells": [
  {
   "cell_type": "code",
   "execution_count": 1,
   "metadata": {},
   "outputs": [],
   "source": [
    "import tensorflow as tf"
   ]
  },
  {
   "cell_type": "markdown",
   "metadata": {},
   "source": [
    "#### 1. 在上下文管理器“foo”中创建变量“v”。\n",
    "```python\n",
    "tf.get_variable(name, shape=None, dtype=None, initializer=None, regularizer=None, trainable=True, collections=None, caching_device=None, partitioner=None, validate_shape=True, custom_getter=None)\n",
    "```"
   ]
  },
  {
   "cell_type": "code",
   "execution_count": 2,
   "metadata": {},
   "outputs": [
    {
     "name": "stdout",
     "output_type": "stream",
     "text": [
      "True\n"
     ]
    }
   ],
   "source": [
    "with tf.variable_scope(\"foo\"):\n",
    "    v = tf.get_variable(\"v\", [1], initializer=tf.constant_initializer(1.0))\n",
    "    \n",
    "# Error. Variable 'foo/v' already exist, disallowed.\n",
    "# with tf.variable_scope(\"foo\"):\n",
    "#     v = tf.get_variable(\"v\", [1])\n",
    "    \n",
    "# reuse=True, 'tf.varialbe_scope' only can get exist variables.\n",
    "with tf.variable_scope(\"foo\", reuse=True):\n",
    "    v1 = tf.get_variable(\"v\", [1])\n",
    "print v == v1\n",
    "\n",
    "# Variable 'bar/v' does not exist, Set 'resue=False' will work.\n",
    "# with tf.variable_scope(\"bar\", reuse=True):\n",
    "#     v = tf.get_variable(\"v\", [1])"
   ]
  },
  {
   "cell_type": "markdown",
   "metadata": {},
   "source": [
    "#### 2. 嵌套上下文管理器中的reuse参数的使用。"
   ]
  },
  {
   "cell_type": "code",
   "execution_count": 3,
   "metadata": {},
   "outputs": [
    {
     "name": "stdout",
     "output_type": "stream",
     "text": [
      "root:  False\n",
      "foo:  True\n",
      "bar:  True\n",
      "root again:  False\n"
     ]
    }
   ],
   "source": [
    "with tf.variable_scope(\"root\"):\n",
    "    print \"root: \", tf.get_variable_scope().reuse # False\n",
    "    \n",
    "    with tf.variable_scope(\"foo\", reuse=True):\n",
    "        print \"foo: \", tf.get_variable_scope().reuse # True\n",
    "        \n",
    "        with tf.variable_scope(\"bar\"):\n",
    "            print \"bar: \", tf.get_variable_scope().reuse # From 'foo' get True\n",
    "            \n",
    "    print \"root again: \", tf.get_variable_scope().reuse # \"root\"->reuse"
   ]
  },
  {
   "cell_type": "markdown",
   "metadata": {},
   "source": [
    "#### 3. 通过variable_scope来管理变量。"
   ]
  },
  {
   "cell_type": "code",
   "execution_count": 4,
   "metadata": {},
   "outputs": [
    {
     "name": "stdout",
     "output_type": "stream",
     "text": [
      "v1.name:  v:0\n",
      "v2.name:  foo/v:0\n",
      "v3.name:  foo/bar/v:0\n",
      "v4.name:  v1:0\n",
      "v4==v1:  False\n"
     ]
    }
   ],
   "source": [
    "v1 = tf.get_variable(\"v\", [1])\n",
    "print \"v1.name: \", v1.name  # 'v:0'\n",
    "\n",
    "with tf.variable_scope(\"foo\",reuse=True):\n",
    "    v2 = tf.get_variable(\"v\", [1])\n",
    "print \"v2.name: \", v2.name # 'foo/v:0'\n",
    "\n",
    "with tf.variable_scope(\"foo\"):\n",
    "    with tf.variable_scope(\"bar\"):\n",
    "        v3 = tf.get_variable(\"v\", [1])\n",
    "        print \"v3.name: \", v3.name # 'foo/bar/v:0'\n",
    "        \n",
    "v4 = tf.get_variable(\"v1\", [1])\n",
    "print \"v4.name: \", v4.name\n",
    "print \"v4==v1: \", v4==v1"
   ]
  },
  {
   "cell_type": "markdown",
   "metadata": {},
   "source": [
    "#### 4. 我们可以通过变量的名称来获取变量。"
   ]
  },
  {
   "cell_type": "code",
   "execution_count": 5,
   "metadata": {},
   "outputs": [
    {
     "name": "stdout",
     "output_type": "stream",
     "text": [
      "v5.name:  foo/bar/v:0\n",
      "True\n",
      "v6.name:  v1:0\n",
      "True\n"
     ]
    }
   ],
   "source": [
    "with tf.variable_scope(\"\",reuse=True):\n",
    "    v5 = tf.get_variable(\"foo/bar/v\", [1])\n",
    "    print \"v5.name: \", v5.name\n",
    "    print v5 == v3\n",
    "    v6 = tf.get_variable(\"v1\", [1]) # Actrally get \"v4\", v4.name='v1:0'\n",
    "    print \"v6.name: \", v6.name\n",
    "    print v6 == v4"
   ]
  },
  {
   "cell_type": "code",
   "execution_count": null,
   "metadata": {},
   "outputs": [],
   "source": []
  }
 ],
 "metadata": {
  "kernelspec": {
   "display_name": "Python 2",
   "language": "python",
   "name": "python2"
  },
  "language_info": {
   "codemirror_mode": {
    "name": "ipython",
    "version": 2
   },
   "file_extension": ".py",
   "mimetype": "text/x-python",
   "name": "python",
   "nbconvert_exporter": "python",
   "pygments_lexer": "ipython2",
   "version": "2.7.12"
  }
 },
 "nbformat": 4,
 "nbformat_minor": 1
}
