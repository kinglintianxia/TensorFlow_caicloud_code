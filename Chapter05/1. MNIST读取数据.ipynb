{
 "cells": [
  {
   "cell_type": "markdown",
   "metadata": {},
   "source": [
    "#### 在Yann LeCun教授的网站中（http://yann.lecun.com/exdb/mnist ） 对MNIST数据集做出了详细的介绍。"
   ]
  },
  {
   "cell_type": "markdown",
   "metadata": {},
   "source": [
    "#### 1. 读取数据集，第一次TensorFlow会自动下载数据集到下面的路径中。"
   ]
  },
  {
   "cell_type": "code",
   "execution_count": 2,
   "metadata": {},
   "outputs": [
    {
     "name": "stdout",
     "output_type": "stream",
     "text": [
      "Extracting ../0_datasets/MNIST_data/train-images-idx3-ubyte.gz\n",
      "Extracting ../0_datasets/MNIST_data/train-labels-idx1-ubyte.gz\n",
      "Extracting ../0_datasets/MNIST_data/t10k-images-idx3-ubyte.gz\n",
      "Extracting ../0_datasets/MNIST_data/t10k-labels-idx1-ubyte.gz\n"
     ]
    }
   ],
   "source": [
    "# TensorFlow 提供了一个类来处理minist 数据集。自动下载并转化格式\n",
    "from tensorflow.examples.tutorials.mnist import input_data\n",
    "# one_hot: [[0,0,0,1],[0,0,1,0]]\n",
    "mnist = input_data.read_data_sets(\"../0_datasets/MNIST_data/\", one_hot=True) "
   ]
  },
  {
   "cell_type": "markdown",
   "metadata": {},
   "source": [
    "#### 2. 数据集会自动被分成3个子集，train、validation和test。以下代码会显示数据集的大小。"
   ]
  },
  {
   "cell_type": "code",
   "execution_count": null,
   "metadata": {},
   "outputs": [],
   "source": [
    "# Origin train data size: 60000\n",
    "print \"Training data size: \", mnist.train.num_examples\n",
    "print \"Validating data size: \", mnist.validation.num_examples\n",
    "# Testing data size: 10000\n",
    "print \"Testing data size: \", mnist.test.num_examples"
   ]
  },
  {
   "cell_type": "markdown",
   "metadata": {},
   "source": [
    "#### 3. 查看training数据集中某个成员的像素矩阵生成的一维数组和其属于的数字标签。"
   ]
  },
  {
   "cell_type": "code",
   "execution_count": null,
   "metadata": {},
   "outputs": [],
   "source": [
    "print \"Example training data: mnist.train.images[0]\\n\", mnist.train.images[0] # 28x28=784\n",
    "print \"Example training data label: mnist.train.labels[0]\",mnist.train.labels[0] # 10"
   ]
  },
  {
   "cell_type": "markdown",
   "metadata": {},
   "source": [
    "#### 4. 使用mnist.train.next_batch来选取batch_size个训练数据。"
   ]
  },
  {
   "cell_type": "code",
   "execution_count": null,
   "metadata": {},
   "outputs": [],
   "source": [
    "batch_size = 100\n",
    "xs, ys = mnist.train.next_batch(batch_size)    # 从train的集合中选取batch_size个训练数据。\n",
    "print \"X shape:\", xs.shape                     \n",
    "print \"Y shape:\", ys.shape                     "
   ]
  },
  {
   "cell_type": "code",
   "execution_count": null,
   "metadata": {},
   "outputs": [],
   "source": [
    "batch_size = 100\n",
    "x, y = mnist.train.next_batch(batch_size)\n",
    "print \"x.shape: \", x.shape\n",
    "print \"y.shape: \", y.shape"
   ]
  }
 ],
 "metadata": {
  "kernelspec": {
   "display_name": "Python 2",
   "language": "python",
   "name": "python2"
  },
  "language_info": {
   "codemirror_mode": {
    "name": "ipython",
    "version": 2
   },
   "file_extension": ".py",
   "mimetype": "text/x-python",
   "name": "python",
   "nbconvert_exporter": "python",
   "pygments_lexer": "ipython2",
   "version": "2.7.12"
  }
 },
 "nbformat": 4,
 "nbformat_minor": 1
}
