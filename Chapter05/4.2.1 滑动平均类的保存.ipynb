{
 "cells": [
  {
   "cell_type": "code",
   "execution_count": 1,
   "metadata": {},
   "outputs": [],
   "source": [
    "import tensorflow as tf"
   ]
  },
  {
   "cell_type": "markdown",
   "metadata": {},
   "source": [
    "#### 1. 使用滑动平均。\n",
    "* [class tf.train.ExponentialMovingAverage](https://www.tensorflow.org/versions/r1.0/api_docs/python/tf/train/ExponentialMovingAverage#__init__)\n",
    "* __init__(decay, num_updates=None, zero_debias=False, name='ExponentialMovingAverage')\n",
    "* $${shadow\\_variable} = decay * shadow\\_variable + (1 - decay) * variable$$\n",
    "* when num_updates aviliable:\n",
    "$$decay=min\\lbrace {decay}, \\frac{1+num\\_updates}{10+num\\_updates}\\rbrace$$"
   ]
  },
  {
   "cell_type": "code",
   "execution_count": 2,
   "metadata": {},
   "outputs": [
    {
     "name": "stdout",
     "output_type": "stream",
     "text": [
      "v:0\n",
      "\n",
      "ExponentialMovingAverage:\n",
      "v:0\n",
      "v/ExponentialMovingAverage:0\n"
     ]
    }
   ],
   "source": [
    "v = tf.Variable(0, dtype=tf.float32, name=\"v\")\n",
    "# 在没有声明滑动平均模型时只有变量‘v’\n",
    "for variables in tf.global_variables(): \n",
    "    print variables.name # 'v:0'\n",
    "    \n",
    "# ExponentialMovingAverage\n",
    "ema = tf.train.ExponentialMovingAverage(0.99) # class\n",
    "maintain_averages_op = ema.apply(tf.global_variables()) # operation\n",
    "# 声明滑动平均模型后，会自动生成影子变量：'v/ExponentialMovingAverage:0'\n",
    "print \"\\nExponentialMovingAverage:\"\n",
    "for variables in tf.global_variables(): \n",
    "    print variables.name"
   ]
  },
  {
   "cell_type": "markdown",
   "metadata": {},
   "source": [
    "#### 2. 保存滑动平均模型。"
   ]
  },
  {
   "cell_type": "code",
   "execution_count": 3,
   "metadata": {},
   "outputs": [
    {
     "name": "stdout",
     "output_type": "stream",
     "text": [
      "[10.0, 0.099999905]\n"
     ]
    }
   ],
   "source": [
    "# Saver class\n",
    "saver = tf.train.Saver() # Saves and restores variables.\n",
    "with tf.Session() as sess:\n",
    "    init_op = tf.global_variables_initializer()\n",
    "    sess.run(init_op)\n",
    "    \n",
    "    sess.run(tf.assign(v, 10)) # v=10\n",
    "    # 更新滑动平均，decay=min(0.99,(1+step)/(10+step)=0.1)=0.1\n",
    "    # average(v) = decay*shadow_variable+(1-decay)*variable = 0.1*0+0.9*10=9\n",
    "    sess.run(maintain_averages_op) # \n",
    "    # 保存的时候会将v:0  v/ExponentialMovingAverage:0这两个变量都存下来。\n",
    "    saver.save(sess, \"saved_model/model2.ckpt\")\n",
    "    # print `v` & `v的滑动平均`\n",
    "    print sess.run([v, ema.average(v)]) # [10.0, 0.099999905] 0.99?"
   ]
  },
  {
   "cell_type": "markdown",
   "metadata": {},
   "source": [
    "#### 3. 加载滑动平均模型。"
   ]
  },
  {
   "cell_type": "code",
   "execution_count": 4,
   "metadata": {},
   "outputs": [
    {
     "name": "stdout",
     "output_type": "stream",
     "text": [
      "INFO:tensorflow:Restoring parameters from saved_model/model2.ckpt\n",
      "0.099999905\n"
     ]
    }
   ],
   "source": [
    "v = tf.Variable(0, dtype=tf.float32, name=\"v\")\n",
    "\n",
    "# 通过变量重命名将原来变量v的滑动平均值直接赋值给v。\n",
    "saver = tf.train.Saver({\"v/ExponentialMovingAverage\": v})\n",
    "with tf.Session() as sess:\n",
    "    saver.restore(sess, \"saved_model/model2.ckpt\")\n",
    "    print sess.run(v)"
   ]
  },
  {
   "cell_type": "code",
   "execution_count": null,
   "metadata": {},
   "outputs": [],
   "source": []
  }
 ],
 "metadata": {
  "kernelspec": {
   "display_name": "Python 2",
   "language": "python",
   "name": "python2"
  },
  "language_info": {
   "codemirror_mode": {
    "name": "ipython",
    "version": 2
   },
   "file_extension": ".py",
   "mimetype": "text/x-python",
   "name": "python",
   "nbconvert_exporter": "python",
   "pygments_lexer": "ipython2",
   "version": "2.7.12"
  }
 },
 "nbformat": 4,
 "nbformat_minor": 1
}
